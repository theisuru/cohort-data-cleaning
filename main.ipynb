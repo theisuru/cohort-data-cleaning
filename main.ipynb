{
 "cells": [
  {
   "cell_type": "markdown",
   "metadata": {
    "collapsed": true,
    "pycharm": {
     "name": "#%% md\n"
    }
   },
   "source": [
    "## Cleaning cohort data: Cleaning UK Biobank synthetic data with Python\n",
    "\n",
    "This is more of a practical and a technical session compared to other sessions in this workshop.\n",
    "Hopefully, you will be able to follow it. Please feel free to ask any questions or interrupt me\n",
    "if you need more details.\n",
    "I will be using python, jupyter notebook and Google colab environment.\n",
    "Just a bit of intro into these tools in case you have not heard them before.\n",
    "Jupyter notebook is a ...\n",
    "Google Colab is a hosted Jupyter notebook with some other features. ...\n",
    "\n",
    "For this analysis I am going to use UK Biobank synthetic dataset created as part of CINECA\n",
    "project. This data is also stored in EBI [BioSamples](https://wwwdev.ebi.ac.uk/biosamples/samples?filter=attr%3Aproject%3AUKB_SYNTHETIC_DATA)\n",
    "and [EGA](https://ega-archive.org/datasets/EGAD00001006308) archives.\n",
    "UK Biobank dataset in general and also synthetic datasets we have in CINECA are quite clean. But for\n",
    "this analysis I needed bit dirty or realistic dataset. Therefore, I applied some noise into this\n",
    "dataset to help with our task. Such as introducing spelling errors, value encoding and so on.\n",
    "Therefore, the dataset we have on hand is not a realistic representation of CINECA synthetic data or\n",
    "UK Biobank data.\n",
    "\n",
    "The first part of any data cleaning or analysing task is understanding data.\n",
    "Therefore, after loading data, lets have a look at the shape of the data we have."
   ]
  },
  {
   "cell_type": "code",
   "execution_count": 11,
   "metadata": {
    "pycharm": {
     "name": "#%%\n"
    }
   },
   "outputs": [
    {
     "name": "stdout",
     "output_type": "stream",
     "text": [
      "Shape of data: (2521, 81)\n"
     ]
    },
    {
     "data": {
      "text/plain": "     eid Sample name     Accession Subject id    EGA sample id  \\\n0  fake1  UKB_FAKE_1  SAMEA7082814    HG00096  EGAN00002587077   \n1  fake2  UKB_FAKE_2  SAMEA7083131    HG00097  EGAN00002588943   \n2  fake3  UKB_FAKE_3  SAMEA7082831    HG00099  EGAN00002589008   \n3  fake4  UKB_FAKE_4  SAMEA7084191    HG00100  EGAN00002587535   \n4  fake5  UKB_FAKE_5  SAMEA7082531    HG00101  EGAN00002589004   \n\n   Platelet count-0.0    Ethnic background-0.0  Body mass index (BMI)-0.0  \\\n0            244.9589                  African                  26.638383   \n1            215.7736                  British                  25.622784   \n2            312.3504   Asian or Asian British                  22.359763   \n3            150.0247          White and Asian                  28.278855   \n4            215.5871  White and Black African                  25.520670   \n\n   Weight-0.0 Diabetes diagnosed by doctor-0.0  ...  \\\n0     85.6358                              Yes  ...   \n1     64.5722                              Yes  ...   \n2     64.4364             Prefer not to answer  ...   \n3     74.4885             Prefer not to answer  ...   \n4     82.3472                              Yes  ...   \n\n                    Operative procedures - OPCS4-0.0  \\\n0  L46.3 Ligation of visceral branch of abdominal...   \n1   K06.1 Repositioning of transposed great arteries   \n2                T89.4 Cannulation of lymphatic duct   \n3                      T77.2 Wide excision of muscle   \n4            Z01.4 Tissue of occipital lobe of brain   \n\n   Frequency of drinking alcohol-0.0  \\\n0                    Monthly or less   \n1             4 or more times a week   \n2                2 to 3 times a week   \n3                2 to 3 times a week   \n4                              Never   \n\n   Blood, blood-forming organs and certain immune disorders  \\\n0                                                NaN          \n1                                                NaN          \n2                                                NaN          \n3                                                NaN          \n4                                                NaN          \n\n   Endocrine, nutritional and metabolic diseases  \\\n0                                            NaN   \n1                                            NaN   \n2                                            NaN   \n3                                            NaN   \n4                                            NaN   \n\n   Mental and behavioural disorders  Nervous system disorders  \\\n0                               NaN       alzheimer's disease   \n1                               NaN                       NaN   \n2                               NaN                       NaN   \n3                               NaN                       NaN   \n4                               NaN                       NaN   \n\n   Digestive system disorders  Respiratory system disorders  \\\n0                         NaN                           NaN   \n1                         NaN                           NaN   \n2                         NaN                           NaN   \n3                         NaN                           NaN   \n4                         NaN                           NaN   \n\n   Circulatory system disorders  Covid-19 tests results  \n0                           NaN                Negative  \n1                           NaN                Negative  \n2                           NaN                Negative  \n3                           NaN                Negative  \n4                           NaN                Negative  \n\n[5 rows x 81 columns]",
      "text/html": "<div>\n<style scoped>\n    .dataframe tbody tr th:only-of-type {\n        vertical-align: middle;\n    }\n\n    .dataframe tbody tr th {\n        vertical-align: top;\n    }\n\n    .dataframe thead th {\n        text-align: right;\n    }\n</style>\n<table border=\"1\" class=\"dataframe\">\n  <thead>\n    <tr style=\"text-align: right;\">\n      <th></th>\n      <th>eid</th>\n      <th>Sample name</th>\n      <th>Accession</th>\n      <th>Subject id</th>\n      <th>EGA sample id</th>\n      <th>Platelet count-0.0</th>\n      <th>Ethnic background-0.0</th>\n      <th>Body mass index (BMI)-0.0</th>\n      <th>Weight-0.0</th>\n      <th>Diabetes diagnosed by doctor-0.0</th>\n      <th>...</th>\n      <th>Operative procedures - OPCS4-0.0</th>\n      <th>Frequency of drinking alcohol-0.0</th>\n      <th>Blood, blood-forming organs and certain immune disorders</th>\n      <th>Endocrine, nutritional and metabolic diseases</th>\n      <th>Mental and behavioural disorders</th>\n      <th>Nervous system disorders</th>\n      <th>Digestive system disorders</th>\n      <th>Respiratory system disorders</th>\n      <th>Circulatory system disorders</th>\n      <th>Covid-19 tests results</th>\n    </tr>\n  </thead>\n  <tbody>\n    <tr>\n      <th>0</th>\n      <td>fake1</td>\n      <td>UKB_FAKE_1</td>\n      <td>SAMEA7082814</td>\n      <td>HG00096</td>\n      <td>EGAN00002587077</td>\n      <td>244.9589</td>\n      <td>African</td>\n      <td>26.638383</td>\n      <td>85.6358</td>\n      <td>Yes</td>\n      <td>...</td>\n      <td>L46.3 Ligation of visceral branch of abdominal...</td>\n      <td>Monthly or less</td>\n      <td>NaN</td>\n      <td>NaN</td>\n      <td>NaN</td>\n      <td>alzheimer's disease</td>\n      <td>NaN</td>\n      <td>NaN</td>\n      <td>NaN</td>\n      <td>Negative</td>\n    </tr>\n    <tr>\n      <th>1</th>\n      <td>fake2</td>\n      <td>UKB_FAKE_2</td>\n      <td>SAMEA7083131</td>\n      <td>HG00097</td>\n      <td>EGAN00002588943</td>\n      <td>215.7736</td>\n      <td>British</td>\n      <td>25.622784</td>\n      <td>64.5722</td>\n      <td>Yes</td>\n      <td>...</td>\n      <td>K06.1 Repositioning of transposed great arteries</td>\n      <td>4 or more times a week</td>\n      <td>NaN</td>\n      <td>NaN</td>\n      <td>NaN</td>\n      <td>NaN</td>\n      <td>NaN</td>\n      <td>NaN</td>\n      <td>NaN</td>\n      <td>Negative</td>\n    </tr>\n    <tr>\n      <th>2</th>\n      <td>fake3</td>\n      <td>UKB_FAKE_3</td>\n      <td>SAMEA7082831</td>\n      <td>HG00099</td>\n      <td>EGAN00002589008</td>\n      <td>312.3504</td>\n      <td>Asian or Asian British</td>\n      <td>22.359763</td>\n      <td>64.4364</td>\n      <td>Prefer not to answer</td>\n      <td>...</td>\n      <td>T89.4 Cannulation of lymphatic duct</td>\n      <td>2 to 3 times a week</td>\n      <td>NaN</td>\n      <td>NaN</td>\n      <td>NaN</td>\n      <td>NaN</td>\n      <td>NaN</td>\n      <td>NaN</td>\n      <td>NaN</td>\n      <td>Negative</td>\n    </tr>\n    <tr>\n      <th>3</th>\n      <td>fake4</td>\n      <td>UKB_FAKE_4</td>\n      <td>SAMEA7084191</td>\n      <td>HG00100</td>\n      <td>EGAN00002587535</td>\n      <td>150.0247</td>\n      <td>White and Asian</td>\n      <td>28.278855</td>\n      <td>74.4885</td>\n      <td>Prefer not to answer</td>\n      <td>...</td>\n      <td>T77.2 Wide excision of muscle</td>\n      <td>2 to 3 times a week</td>\n      <td>NaN</td>\n      <td>NaN</td>\n      <td>NaN</td>\n      <td>NaN</td>\n      <td>NaN</td>\n      <td>NaN</td>\n      <td>NaN</td>\n      <td>Negative</td>\n    </tr>\n    <tr>\n      <th>4</th>\n      <td>fake5</td>\n      <td>UKB_FAKE_5</td>\n      <td>SAMEA7082531</td>\n      <td>HG00101</td>\n      <td>EGAN00002589004</td>\n      <td>215.5871</td>\n      <td>White and Black African</td>\n      <td>25.520670</td>\n      <td>82.3472</td>\n      <td>Yes</td>\n      <td>...</td>\n      <td>Z01.4 Tissue of occipital lobe of brain</td>\n      <td>Never</td>\n      <td>NaN</td>\n      <td>NaN</td>\n      <td>NaN</td>\n      <td>NaN</td>\n      <td>NaN</td>\n      <td>NaN</td>\n      <td>NaN</td>\n      <td>Negative</td>\n    </tr>\n  </tbody>\n</table>\n<p>5 rows × 81 columns</p>\n</div>"
     },
     "execution_count": 11,
     "metadata": {},
     "output_type": "execute_result"
    }
   ],
   "source": [
    "import pandas as pd\n",
    "\n",
    "ukb_data = pd.read_csv(\"data/ukb_synthetic_data_with_noise.csv\")\n",
    "print(\"Shape of data: \" + str(ukb_data.shape))\n",
    "ukb_data.head()"
   ]
  },
  {
   "cell_type": "markdown",
   "metadata": {
    "pycharm": {
     "name": "#%% md\n"
    }
   },
   "source": [
    "Our dataset has 81 columns and 2521 rows. Each column represent a field in our\n",
    "dataset and rows are number of data points. If we look closely,\n",
    "we have categorical values, numerical values and also IDs. I am going to ignore IDs in this\n",
    "inspection, and I am also not going to focus much on numbers. I will be focusing on cleaning\n",
    "text values. But before that lets just see the distribution of some variables. Just for fun of it!"
   ]
  },
  {
   "cell_type": "code",
   "execution_count": 12,
   "metadata": {
    "pycharm": {
     "name": "#%%\n"
    }
   },
   "outputs": [
    {
     "data": {
      "text/plain": "(array([0.0002396 , 0.0002396 , 0.00047919, 0.00071879, 0.00047919,\n        0.00143758, 0.00047919, 0.00263556, 0.00359394, 0.00191677,\n        0.0059899 , 0.00479192, 0.00646909, 0.00479192, 0.00934424,\n        0.00886505, 0.01030263, 0.01174021, 0.01533415, 0.01509455,\n        0.01701132, 0.02108445, 0.01964687, 0.02563677, 0.02348041,\n        0.02827233, 0.02443879, 0.02659516, 0.02563677, 0.03090789,\n        0.02156364, 0.02563677, 0.02683475, 0.02443879, 0.01844889,\n        0.02443879, 0.01701132, 0.01509455, 0.01365697, 0.01078182,\n        0.0119798 , 0.00694828, 0.00838586, 0.00527111, 0.0057503 ,\n        0.00646909, 0.00311475, 0.00311475, 0.00215636, 0.00215636,\n        0.0002396 , 0.00095838, 0.0002396 , 0.00047919, 0.00095838,\n        0.        , 0.        , 0.        , 0.        , 0.0002396 ]),\n array([ 28.2759 ,  29.93147,  31.58704,  33.24261,  34.89818,  36.55375,\n         38.20932,  39.86489,  41.52046,  43.17603,  44.8316 ,  46.48717,\n         48.14274,  49.79831,  51.45388,  53.10945,  54.76502,  56.42059,\n         58.07616,  59.73173,  61.3873 ,  63.04287,  64.69844,  66.35401,\n         68.00958,  69.66515,  71.32072,  72.97629,  74.63186,  76.28743,\n         77.943  ,  79.59857,  81.25414,  82.90971,  84.56528,  86.22085,\n         87.87642,  89.53199,  91.18756,  92.84313,  94.4987 ,  96.15427,\n         97.80984,  99.46541, 101.12098, 102.77655, 104.43212, 106.08769,\n        107.74326, 109.39883, 111.0544 , 112.70997, 114.36554, 116.02111,\n        117.67668, 119.33225, 120.98782, 122.64339, 124.29896, 125.95453,\n        127.6101 ]),\n <BarContainer object of 60 artists>)"
     },
     "execution_count": 12,
     "metadata": {},
     "output_type": "execute_result"
    },
    {
     "data": {
      "text/plain": "<Figure size 432x288 with 1 Axes>",
      "image/png": "[encoded data removed]"
     },
     "metadata": {
      "needs_background": "light"
     },
     "output_type": "display_data"
    }
   ],
   "source": [
    "import matplotlib.pyplot as plt\n",
    "\n",
    "ukb_data['Weight-0.0'].describe()\n",
    "plt.hist(ukb_data['Weight-0.0'], density=True, bins=60)"
   ]
  },
  {
   "cell_type": "code",
   "execution_count": 13,
   "metadata": {
    "pycharm": {
     "name": "#%%\n"
    }
   },
   "outputs": [
    {
     "name": "stdout",
     "output_type": "stream",
     "text": [
      "['Monthly or less' '4 or more times a week' '2 to 3 times a week' 'Never'\n",
      " 'Prefer not to answer' '2 to 4 times a month']\n",
      "['Prefer not to answer' 'No' 'Yes, on most or all days'\n",
      " 'Only occasionally']\n",
      "[1 0]\n",
      "[\"alzheimer's disease\" nan 'multiple sclerosis' \"huntington's disease\"\n",
      " 'multiple uclerusis' \"alzhjimer'u disease\" \"alzheimer'a diiease\"\n",
      " \"hunjington's dislase\" \"huntington's dismaae\" \"alzzeimer'q disease\"\n",
      " 'cultiple gclerosis' \"alzhecmer's disease\" \"alzheimer'w dinease\"\n",
      " \"alzheimer's diselje\" \"jlzleimer's disease\" \"quntington's disejse\"\n",
      " \"abzheimnr's disease\" \"alzheimer'lkdsseasx\" \"huntinwdon's disease\"\n",
      " 'multialezsclerosis' 'aultrple sclerosis' \"hyntingtox's disease\"\n",
      " 'multnsle sclerosis' 'multiple mcxerosis' \"alzheimeb's diseqse\"\n",
      " \"alzheixer's diseasa\" \"huntinwton's lisease\" \"tlzheimer's disease\"\n",
      " 'multuple sclirosis']\n"
     ]
    }
   ],
   "source": [
    "print(ukb_data['Frequency of drinking alcohol-0.0'].unique())\n",
    "print(ukb_data['Current tobacco smoking-0.0'].unique())\n",
    "print(ukb_data['Sex'].unique())\n",
    "print(ukb_data['Nervous system disorders'].unique())"
   ]
  },
  {
   "cell_type": "code",
   "execution_count": 14,
   "metadata": {
    "pycharm": {
     "name": "#%%\n"
    }
   },
   "outputs": [
    {
     "data": {
      "text/plain": "            unique_values\n0         Monthly or less\n1  4 or more times a week\n2     2 to 3 times a week\n3                   Never\n4    Prefer not to answer\n5    2 to 4 times a month",
      "text/html": "<div>\n<style scoped>\n    .dataframe tbody tr th:only-of-type {\n        vertical-align: middle;\n    }\n\n    .dataframe tbody tr th {\n        vertical-align: top;\n    }\n\n    .dataframe thead th {\n        text-align: right;\n    }\n</style>\n<table border=\"1\" class=\"dataframe\">\n  <thead>\n    <tr style=\"text-align: right;\">\n      <th></th>\n      <th>unique_values</th>\n    </tr>\n  </thead>\n  <tbody>\n    <tr>\n      <th>0</th>\n      <td>Monthly or less</td>\n    </tr>\n    <tr>\n      <th>1</th>\n      <td>4 or more times a week</td>\n    </tr>\n    <tr>\n      <th>2</th>\n      <td>2 to 3 times a week</td>\n    </tr>\n    <tr>\n      <th>3</th>\n      <td>Never</td>\n    </tr>\n    <tr>\n      <th>4</th>\n      <td>Prefer not to answer</td>\n    </tr>\n    <tr>\n      <th>5</th>\n      <td>2 to 4 times a month</td>\n    </tr>\n  </tbody>\n</table>\n</div>"
     },
     "execution_count": 14,
     "metadata": {},
     "output_type": "execute_result"
    }
   ],
   "source": [
    "pd.DataFrame(ukb_data['Frequency of drinking alcohol-0.0'].unique(), columns=['unique_values'])"
   ]
  },
  {
   "cell_type": "markdown",
   "metadata": {
    "pycharm": {
     "name": "#%% md\n"
    }
   },
   "source": [
    "Before moving forward with further exploration, I am going to do our first two data cleaning tasks.\n",
    "1. Normalise column headers (fields)\n",
    "2. Remove unwanted columns.\n",
    "\n",
    "UKB has longitudinal data associated with different measurements taken at\n",
    "different times. Therefore, it has this index at the end of some fields. Let's just get rid of it\n",
    "using python regex package. We will simply replace `-0.0` with an empty string.\n",
    "That is better!\n",
    "\n",
    "We have several ID values in this dataset. I will remove most of them and only retain\n",
    "`sample name`. This is enough to uniquely identify each row. At a later stage, if we need any\n",
    "other ID, we can easily merge them back."
   ]
  },
  {
   "cell_type": "code",
   "execution_count": 15,
   "metadata": {
    "pycharm": {
     "name": "#%%\n"
    }
   },
   "outputs": [
    {
     "data": {
      "text/plain": "                          fields\n0                    sample name\n1                 platelet count\n2              ethnic background\n3          body mass index (bmi)\n4                         weight\n..                           ...\n72      nervous system disorders\n73    digestive system disorders\n74  respiratory system disorders\n75  circulatory system disorders\n76        covid-19 tests results\n\n[77 rows x 1 columns]",
      "text/html": "<div>\n<style scoped>\n    .dataframe tbody tr th:only-of-type {\n        vertical-align: middle;\n    }\n\n    .dataframe tbody tr th {\n        vertical-align: top;\n    }\n\n    .dataframe thead th {\n        text-align: right;\n    }\n</style>\n<table border=\"1\" class=\"dataframe\">\n  <thead>\n    <tr style=\"text-align: right;\">\n      <th></th>\n      <th>fields</th>\n    </tr>\n  </thead>\n  <tbody>\n    <tr>\n      <th>0</th>\n      <td>sample name</td>\n    </tr>\n    <tr>\n      <th>1</th>\n      <td>platelet count</td>\n    </tr>\n    <tr>\n      <th>2</th>\n      <td>ethnic background</td>\n    </tr>\n    <tr>\n      <th>3</th>\n      <td>body mass index (bmi)</td>\n    </tr>\n    <tr>\n      <th>4</th>\n      <td>weight</td>\n    </tr>\n    <tr>\n      <th>...</th>\n      <td>...</td>\n    </tr>\n    <tr>\n      <th>72</th>\n      <td>nervous system disorders</td>\n    </tr>\n    <tr>\n      <th>73</th>\n      <td>digestive system disorders</td>\n    </tr>\n    <tr>\n      <th>74</th>\n      <td>respiratory system disorders</td>\n    </tr>\n    <tr>\n      <th>75</th>\n      <td>circulatory system disorders</td>\n    </tr>\n    <tr>\n      <th>76</th>\n      <td>covid-19 tests results</td>\n    </tr>\n  </tbody>\n</table>\n<p>77 rows × 1 columns</p>\n</div>"
     },
     "execution_count": 15,
     "metadata": {},
     "output_type": "execute_result"
    }
   ],
   "source": [
    "import re\n",
    "\n",
    "ukb_data.rename(columns=lambda x: re.sub('-0.0', '', x), inplace=True)\n",
    "ukb_data.rename(columns=lambda x: x.strip(), inplace=True)\n",
    "ukb_data.rename(columns=lambda x: x.lower(), inplace=True)\n",
    "\n",
    "ukb_data.drop(['eid', 'accession', 'subject id', 'ega sample id'], axis=1, inplace=True)\n",
    "pd.DataFrame(ukb_data.columns, columns=['fields'])"
   ]
  },
  {
   "cell_type": "markdown",
   "metadata": {
    "pycharm": {
     "name": "#%% md\n"
    }
   },
   "source": [
    "Lets explore distribution of some variables.\n",
    "\n",
    "`sex` is an important variable. Looking at its values, we can see it is encoded in our dataset.\n",
    "Luckily, we have text representation of its encoded values.\n",
    "```\n",
    "0 - Female\n",
    "1 - male\n",
    "```\n",
    "Let's replace these encoded values with its text values. This will be useful in analysis\n",
    "steps further down the pipeline, specially if you plan to do any cross cohort analysis."
   ]
  },
  {
   "cell_type": "code",
   "execution_count": 16,
   "metadata": {
    "pycharm": {
     "name": "#%%\n"
    }
   },
   "outputs": [
    {
     "data": {
      "text/plain": "   values\n0    male\n1  female",
      "text/html": "<div>\n<style scoped>\n    .dataframe tbody tr th:only-of-type {\n        vertical-align: middle;\n    }\n\n    .dataframe tbody tr th {\n        vertical-align: top;\n    }\n\n    .dataframe thead th {\n        text-align: right;\n    }\n</style>\n<table border=\"1\" class=\"dataframe\">\n  <thead>\n    <tr style=\"text-align: right;\">\n      <th></th>\n      <th>values</th>\n    </tr>\n  </thead>\n  <tbody>\n    <tr>\n      <th>0</th>\n      <td>male</td>\n    </tr>\n    <tr>\n      <th>1</th>\n      <td>female</td>\n    </tr>\n  </tbody>\n</table>\n</div>"
     },
     "execution_count": 16,
     "metadata": {},
     "output_type": "execute_result"
    }
   ],
   "source": [
    "ukb_data['sex'] = ukb_data['sex'].map({0: 'female', 1: 'male'})\n",
    "pd.DataFrame(ukb_data['sex'].unique(), columns=['values'])\n"
   ]
  },
  {
   "cell_type": "markdown",
   "metadata": {
    "pycharm": {
     "name": "#%% md\n"
    }
   },
   "source": [
    "`Ethnic background` looks like an interesting enough variable. Let's see how many unique values we have\n",
    "under this column.\n",
    "We have 147 unique values. That is a bit more than I expected. The problem here is, if we look closer,\n",
    "there are a lot of spelling mistakes. How can we fix this. If we know list of values we are expecting\n",
    "for this field we can easily correct them. But most of the time we do not know the whole set of values.\n",
    "In that case we can use a dictionary to fix as much as possible. Generic dictionary is available in\n",
    "`python nltk` library. If our use case require more scientific vocabulary, one option is to construct\n",
    "a vocabulary and pass it to the spelling corrector. Let's go over these methods quickly.\n",
    "\n",
    "Case no 1: I know the full list of values of the field and will use this list to correct values.\n",
    "\n",
    "Second case, I only have a generic dictionary and try to correct field values using this.\n",
    "\n",
    "Finally, I am going to augment the existing dictionary with a set of more domain specific vocabulary.\n",
    "This will increase the accuracy compared to the second approach.\n"
   ]
  },
  {
   "cell_type": "code",
   "execution_count": 17,
   "metadata": {
    "pycharm": {
     "name": "#%%\n"
    }
   },
   "outputs": [
    {
     "data": {
      "text/plain": "                         value                 best_match     ratio\n12      Asian kr Asiao British     Asian or Asian British  0.909091\n18                   Caribjcan                  Caribbean  0.777778\n19   White and Black Caribbeau  White and Black Caribbean  0.960000\n22                     Brktisr                    British  0.714286\n24                     Chvnese                    Chinese  0.857143\n..                         ...                        ...       ...\n142  White and Blach Caribbean  White and Black Caribbean  0.960000\n143                      Mqked                      Mixed  0.600000\n144     Asian or Asiin British     Asian or Asian British  0.954545\n145     otiak or Asiqn British     Asian or Asian British  0.818182\n146    White and Blacp ofrican    White and Black African  0.913043\n\n[125 rows x 3 columns]",
      "text/html": "<div>\n<style scoped>\n    .dataframe tbody tr th:only-of-type {\n        vertical-align: middle;\n    }\n\n    .dataframe tbody tr th {\n        vertical-align: top;\n    }\n\n    .dataframe thead th {\n        text-align: right;\n    }\n</style>\n<table border=\"1\" class=\"dataframe\">\n  <thead>\n    <tr style=\"text-align: right;\">\n      <th></th>\n      <th>value</th>\n      <th>best_match</th>\n      <th>ratio</th>\n    </tr>\n  </thead>\n  <tbody>\n    <tr>\n      <th>12</th>\n      <td>Asian kr Asiao British</td>\n      <td>Asian or Asian British</td>\n      <td>0.909091</td>\n    </tr>\n    <tr>\n      <th>18</th>\n      <td>Caribjcan</td>\n      <td>Caribbean</td>\n      <td>0.777778</td>\n    </tr>\n    <tr>\n      <th>19</th>\n      <td>White and Black Caribbeau</td>\n      <td>White and Black Caribbean</td>\n      <td>0.960000</td>\n    </tr>\n    <tr>\n      <th>22</th>\n      <td>Brktisr</td>\n      <td>British</td>\n      <td>0.714286</td>\n    </tr>\n    <tr>\n      <th>24</th>\n      <td>Chvnese</td>\n      <td>Chinese</td>\n      <td>0.857143</td>\n    </tr>\n    <tr>\n      <th>...</th>\n      <td>...</td>\n      <td>...</td>\n      <td>...</td>\n    </tr>\n    <tr>\n      <th>142</th>\n      <td>White and Blach Caribbean</td>\n      <td>White and Black Caribbean</td>\n      <td>0.960000</td>\n    </tr>\n    <tr>\n      <th>143</th>\n      <td>Mqked</td>\n      <td>Mixed</td>\n      <td>0.600000</td>\n    </tr>\n    <tr>\n      <th>144</th>\n      <td>Asian or Asiin British</td>\n      <td>Asian or Asian British</td>\n      <td>0.954545</td>\n    </tr>\n    <tr>\n      <th>145</th>\n      <td>otiak or Asiqn British</td>\n      <td>Asian or Asian British</td>\n      <td>0.818182</td>\n    </tr>\n    <tr>\n      <th>146</th>\n      <td>White and Blacp ofrican</td>\n      <td>White and Black African</td>\n      <td>0.913043</td>\n    </tr>\n  </tbody>\n</table>\n<p>125 rows × 3 columns</p>\n</div>"
     },
     "execution_count": 17,
     "metadata": {},
     "output_type": "execute_result"
    }
   ],
   "source": [
    "import numpy as np\n",
    "from difflib import SequenceMatcher\n",
    "\n",
    "ethnic_b_values_noise = ukb_data['ethnic background'].unique()\n",
    "\n",
    "ethnic_b_values = ['African', 'British', 'Asian or Asian British', 'White and Asian',\n",
    "                   'White and Black African', 'Prefer not to answer',\n",
    "                   'Any other Asian background', 'White and Black Caribbean',\n",
    "                   'Black or Black British', 'Any other mixed background',\n",
    "                   'Bangladeshi', 'Do not know', 'Any other Black background',\n",
    "                   'Irish', 'Mixed', 'White', 'Pakistani', 'Caribbean',\n",
    "                   'Other ethnic group', 'Indian', 'Any other white background',\n",
    "                   'Chinese']\n",
    "\n",
    "similarity_list = []\n",
    "for val in ethnic_b_values_noise:\n",
    "    similarity = [SequenceMatcher(None, val, x).ratio() for x in ethnic_b_values]\n",
    "    best_match = ethnic_b_values[np.argmax(similarity)]\n",
    "    ratio = max(similarity)\n",
    "    similarity_list.append({'value': val, 'best_match': best_match, 'ratio': ratio})\n",
    "\n",
    "mappings = pd.DataFrame(similarity_list)\n",
    "mappings[mappings['ratio'] < 1]"
   ]
  },
  {
   "cell_type": "code",
   "execution_count": 18,
   "metadata": {
    "pycharm": {
     "name": "#%%\n"
    }
   },
   "outputs": [
    {
     "data": {
      "text/plain": "                        values\n0                      African\n1                      British\n2       Asian or Asian British\n3              White and Asian\n4      White and Black African\n5         Prefer not to answer\n6   Any other Asian background\n7    White and Black Caribbean\n8       Black or Black British\n9   Any other mixed background\n10                 Bangladeshi\n11                 Do not know\n12  Any other Black background\n13                       Irish\n14                       Mixed\n15                       White\n16                   Pakistani\n17                   Caribbean\n18          Other ethnic group\n19                      Indian\n20  Any other white background\n21                     Chinese",
      "text/html": "<div>\n<style scoped>\n    .dataframe tbody tr th:only-of-type {\n        vertical-align: middle;\n    }\n\n    .dataframe tbody tr th {\n        vertical-align: top;\n    }\n\n    .dataframe thead th {\n        text-align: right;\n    }\n</style>\n<table border=\"1\" class=\"dataframe\">\n  <thead>\n    <tr style=\"text-align: right;\">\n      <th></th>\n      <th>values</th>\n    </tr>\n  </thead>\n  <tbody>\n    <tr>\n      <th>0</th>\n      <td>African</td>\n    </tr>\n    <tr>\n      <th>1</th>\n      <td>British</td>\n    </tr>\n    <tr>\n      <th>2</th>\n      <td>Asian or Asian British</td>\n    </tr>\n    <tr>\n      <th>3</th>\n      <td>White and Asian</td>\n    </tr>\n    <tr>\n      <th>4</th>\n      <td>White and Black African</td>\n    </tr>\n    <tr>\n      <th>5</th>\n      <td>Prefer not to answer</td>\n    </tr>\n    <tr>\n      <th>6</th>\n      <td>Any other Asian background</td>\n    </tr>\n    <tr>\n      <th>7</th>\n      <td>White and Black Caribbean</td>\n    </tr>\n    <tr>\n      <th>8</th>\n      <td>Black or Black British</td>\n    </tr>\n    <tr>\n      <th>9</th>\n      <td>Any other mixed background</td>\n    </tr>\n    <tr>\n      <th>10</th>\n      <td>Bangladeshi</td>\n    </tr>\n    <tr>\n      <th>11</th>\n      <td>Do not know</td>\n    </tr>\n    <tr>\n      <th>12</th>\n      <td>Any other Black background</td>\n    </tr>\n    <tr>\n      <th>13</th>\n      <td>Irish</td>\n    </tr>\n    <tr>\n      <th>14</th>\n      <td>Mixed</td>\n    </tr>\n    <tr>\n      <th>15</th>\n      <td>White</td>\n    </tr>\n    <tr>\n      <th>16</th>\n      <td>Pakistani</td>\n    </tr>\n    <tr>\n      <th>17</th>\n      <td>Caribbean</td>\n    </tr>\n    <tr>\n      <th>18</th>\n      <td>Other ethnic group</td>\n    </tr>\n    <tr>\n      <th>19</th>\n      <td>Indian</td>\n    </tr>\n    <tr>\n      <th>20</th>\n      <td>Any other white background</td>\n    </tr>\n    <tr>\n      <th>21</th>\n      <td>Chinese</td>\n    </tr>\n  </tbody>\n</table>\n</div>"
     },
     "execution_count": 18,
     "metadata": {},
     "output_type": "execute_result"
    }
   ],
   "source": [
    "ethnic_b_mappings = {match['value']: match['best_match'] for match in similarity_list}\n",
    "ukb_data['ethnic background'] = ukb_data['ethnic background'].map(ethnic_b_mappings)\n",
    "pd.DataFrame(ukb_data['ethnic background'].unique(), columns=['values'])"
   ]
  },
  {
   "cell_type": "markdown",
   "metadata": {
    "pycharm": {
     "name": "#%% md\n"
    }
   },
   "source": [
    "I am going to select field `blood, blood-forming organs and certain immune disorders`\n",
    "for our spell correction using dictionary. Before that lets have a look at values.\n",
    "We have 29 unique values, ignoring `nan` which was there for empty cells.\n",
    "First, we will have a quick look at our dictionary: the value `agranulocytosis` is present\n",
    "in our generic dictionary, so any close spelling errors for the value can be corrected.\n",
    "Let's go ahead can fix spelling errors using generic dictionary terms."
   ]
  },
  {
   "cell_type": "code",
   "execution_count": 19,
   "metadata": {
    "pycharm": {
     "name": "#%%\n"
    }
   },
   "outputs": [
    {
     "data": {
      "text/plain": "              unique_values\n0   iron deficiency anaemia\n1           agranulocytosis\n2           ugraaulocytosis\n3               sarcoidosis\n4           amranulocytosts\n5   iron defisiency anaemia\n6               uarcoidosis\n7           agravulocytosis\n8   iron deficijncy anaemia\n9               sarcjidlsis\n10              sarcoidowir\n11  iror deftciency anaemia\n12              saucjidosis\n13              svrcqidosis\n14              sarcmidgsis\n15          arranwlocytosis\n16          abranulocytoszs\n17              sarcoiuouis\n18              narcoidosid\n19          agranulocytmsiq\n20          agranulocbtoshs\n21              sarcxidisis\n22  iroa meficiency anaemia\n23  iron deficiencz anaelia\n24              sarcoizosiu\n25              sarcocdoiis\n26  pron reficiency anaemia\n27              sarcondosis\n28          agranhlocytocis",
      "text/html": "<div>\n<style scoped>\n    .dataframe tbody tr th:only-of-type {\n        vertical-align: middle;\n    }\n\n    .dataframe tbody tr th {\n        vertical-align: top;\n    }\n\n    .dataframe thead th {\n        text-align: right;\n    }\n</style>\n<table border=\"1\" class=\"dataframe\">\n  <thead>\n    <tr style=\"text-align: right;\">\n      <th></th>\n      <th>unique_values</th>\n    </tr>\n  </thead>\n  <tbody>\n    <tr>\n      <th>0</th>\n      <td>iron deficiency anaemia</td>\n    </tr>\n    <tr>\n      <th>1</th>\n      <td>agranulocytosis</td>\n    </tr>\n    <tr>\n      <th>2</th>\n      <td>ugraaulocytosis</td>\n    </tr>\n    <tr>\n      <th>3</th>\n      <td>sarcoidosis</td>\n    </tr>\n    <tr>\n      <th>4</th>\n      <td>amranulocytosts</td>\n    </tr>\n    <tr>\n      <th>5</th>\n      <td>iron defisiency anaemia</td>\n    </tr>\n    <tr>\n      <th>6</th>\n      <td>uarcoidosis</td>\n    </tr>\n    <tr>\n      <th>7</th>\n      <td>agravulocytosis</td>\n    </tr>\n    <tr>\n      <th>8</th>\n      <td>iron deficijncy anaemia</td>\n    </tr>\n    <tr>\n      <th>9</th>\n      <td>sarcjidlsis</td>\n    </tr>\n    <tr>\n      <th>10</th>\n      <td>sarcoidowir</td>\n    </tr>\n    <tr>\n      <th>11</th>\n      <td>iror deftciency anaemia</td>\n    </tr>\n    <tr>\n      <th>12</th>\n      <td>saucjidosis</td>\n    </tr>\n    <tr>\n      <th>13</th>\n      <td>svrcqidosis</td>\n    </tr>\n    <tr>\n      <th>14</th>\n      <td>sarcmidgsis</td>\n    </tr>\n    <tr>\n      <th>15</th>\n      <td>arranwlocytosis</td>\n    </tr>\n    <tr>\n      <th>16</th>\n      <td>abranulocytoszs</td>\n    </tr>\n    <tr>\n      <th>17</th>\n      <td>sarcoiuouis</td>\n    </tr>\n    <tr>\n      <th>18</th>\n      <td>narcoidosid</td>\n    </tr>\n    <tr>\n      <th>19</th>\n      <td>agranulocytmsiq</td>\n    </tr>\n    <tr>\n      <th>20</th>\n      <td>agranulocbtoshs</td>\n    </tr>\n    <tr>\n      <th>21</th>\n      <td>sarcxidisis</td>\n    </tr>\n    <tr>\n      <th>22</th>\n      <td>iroa meficiency anaemia</td>\n    </tr>\n    <tr>\n      <th>23</th>\n      <td>iron deficiencz anaelia</td>\n    </tr>\n    <tr>\n      <th>24</th>\n      <td>sarcoizosiu</td>\n    </tr>\n    <tr>\n      <th>25</th>\n      <td>sarcocdoiis</td>\n    </tr>\n    <tr>\n      <th>26</th>\n      <td>pron reficiency anaemia</td>\n    </tr>\n    <tr>\n      <th>27</th>\n      <td>sarcondosis</td>\n    </tr>\n    <tr>\n      <th>28</th>\n      <td>agranhlocytocis</td>\n    </tr>\n  </tbody>\n</table>\n</div>"
     },
     "execution_count": 19,
     "metadata": {},
     "output_type": "execute_result"
    }
   ],
   "source": [
    "pd.DataFrame(ukb_data['blood, blood-forming organs and certain immune disorders'].dropna().unique(),\n",
    "             columns=['unique_values'])"
   ]
  },
  {
   "cell_type": "code",
   "execution_count": 20,
   "metadata": {
    "pycharm": {
     "name": "#%%\n"
    }
   },
   "outputs": [
    {
     "data": {
      "text/plain": "                      value               suggestion\n0   iron deficiency anaemia  iron deficiency anaemia\n1           agranulocytosis          agranulocytosis\n2           ugraaulocytosis          agranulocytosis\n3               sarcoidosis              sarcoid sis\n4           amranulocytosts          agranulocytosis\n5   iron defisiency anaemia  iron deficiency anaemia\n6               uarcoidosis              sarcoid sis\n7           agravulocytosis          agranulocytosis\n8   iron deficijncy anaemia  iron deficiency anaemia\n9               sarcjidlsis              sarcoid sis\n10              sarcoidowir              sarcoid air\n11  iror deftciency anaemia  iron deficiency anaemia\n12              saucjidosis               a acidosis\n13              svrcqidosis              so acidosis\n14              sarcmidgsis              sarcoid sis\n15          arranwlocytosis          agranulocytosis\n16          abranulocytoszs          agranulocytosis\n17              sarcoiuouis              marco louis\n18              narcoidosid              sarcoid sid\n19          agranulocytmsiq          agranulocytosis\n20          agranulocbtoshs          agranulocytosis\n21              sarcxidisis             sarcoid isis\n22  iroa meficiency anaemia  iron deficiency anaemia\n23  iron deficiencz anaelia  iron deficiency anaemia\n24              sarcoizosiu              sarcoid oil\n25              sarcocdoiis               sarcoid is\n26  pron reficiency anaemia  pron deficiency anaemia\n27              sarcondosis              sarcoid sis\n28          agranhlocytocis          agranulocytosis",
      "text/html": "<div>\n<style scoped>\n    .dataframe tbody tr th:only-of-type {\n        vertical-align: middle;\n    }\n\n    .dataframe tbody tr th {\n        vertical-align: top;\n    }\n\n    .dataframe thead th {\n        text-align: right;\n    }\n</style>\n<table border=\"1\" class=\"dataframe\">\n  <thead>\n    <tr style=\"text-align: right;\">\n      <th></th>\n      <th>value</th>\n      <th>suggestion</th>\n    </tr>\n  </thead>\n  <tbody>\n    <tr>\n      <th>0</th>\n      <td>iron deficiency anaemia</td>\n      <td>iron deficiency anaemia</td>\n    </tr>\n    <tr>\n      <th>1</th>\n      <td>agranulocytosis</td>\n      <td>agranulocytosis</td>\n    </tr>\n    <tr>\n      <th>2</th>\n      <td>ugraaulocytosis</td>\n      <td>agranulocytosis</td>\n    </tr>\n    <tr>\n      <th>3</th>\n      <td>sarcoidosis</td>\n      <td>sarcoid sis</td>\n    </tr>\n    <tr>\n      <th>4</th>\n      <td>amranulocytosts</td>\n      <td>agranulocytosis</td>\n    </tr>\n    <tr>\n      <th>5</th>\n      <td>iron defisiency anaemia</td>\n      <td>iron deficiency anaemia</td>\n    </tr>\n    <tr>\n      <th>6</th>\n      <td>uarcoidosis</td>\n      <td>sarcoid sis</td>\n    </tr>\n    <tr>\n      <th>7</th>\n      <td>agravulocytosis</td>\n      <td>agranulocytosis</td>\n    </tr>\n    <tr>\n      <th>8</th>\n      <td>iron deficijncy anaemia</td>\n      <td>iron deficiency anaemia</td>\n    </tr>\n    <tr>\n      <th>9</th>\n      <td>sarcjidlsis</td>\n      <td>sarcoid sis</td>\n    </tr>\n    <tr>\n      <th>10</th>\n      <td>sarcoidowir</td>\n      <td>sarcoid air</td>\n    </tr>\n    <tr>\n      <th>11</th>\n      <td>iror deftciency anaemia</td>\n      <td>iron deficiency anaemia</td>\n    </tr>\n    <tr>\n      <th>12</th>\n      <td>saucjidosis</td>\n      <td>a acidosis</td>\n    </tr>\n    <tr>\n      <th>13</th>\n      <td>svrcqidosis</td>\n      <td>so acidosis</td>\n    </tr>\n    <tr>\n      <th>14</th>\n      <td>sarcmidgsis</td>\n      <td>sarcoid sis</td>\n    </tr>\n    <tr>\n      <th>15</th>\n      <td>arranwlocytosis</td>\n      <td>agranulocytosis</td>\n    </tr>\n    <tr>\n      <th>16</th>\n      <td>abranulocytoszs</td>\n      <td>agranulocytosis</td>\n    </tr>\n    <tr>\n      <th>17</th>\n      <td>sarcoiuouis</td>\n      <td>marco louis</td>\n    </tr>\n    <tr>\n      <th>18</th>\n      <td>narcoidosid</td>\n      <td>sarcoid sid</td>\n    </tr>\n    <tr>\n      <th>19</th>\n      <td>agranulocytmsiq</td>\n      <td>agranulocytosis</td>\n    </tr>\n    <tr>\n      <th>20</th>\n      <td>agranulocbtoshs</td>\n      <td>agranulocytosis</td>\n    </tr>\n    <tr>\n      <th>21</th>\n      <td>sarcxidisis</td>\n      <td>sarcoid isis</td>\n    </tr>\n    <tr>\n      <th>22</th>\n      <td>iroa meficiency anaemia</td>\n      <td>iron deficiency anaemia</td>\n    </tr>\n    <tr>\n      <th>23</th>\n      <td>iron deficiencz anaelia</td>\n      <td>iron deficiency anaemia</td>\n    </tr>\n    <tr>\n      <th>24</th>\n      <td>sarcoizosiu</td>\n      <td>sarcoid oil</td>\n    </tr>\n    <tr>\n      <th>25</th>\n      <td>sarcocdoiis</td>\n      <td>sarcoid is</td>\n    </tr>\n    <tr>\n      <th>26</th>\n      <td>pron reficiency anaemia</td>\n      <td>pron deficiency anaemia</td>\n    </tr>\n    <tr>\n      <th>27</th>\n      <td>sarcondosis</td>\n      <td>sarcoid sis</td>\n    </tr>\n    <tr>\n      <th>28</th>\n      <td>agranhlocytocis</td>\n      <td>agranulocytosis</td>\n    </tr>\n  </tbody>\n</table>\n</div>"
     },
     "execution_count": 20,
     "metadata": {},
     "output_type": "execute_result"
    }
   ],
   "source": [
    "import pkg_resources\n",
    "from symspellpy import SymSpell, Verbosity\n",
    "\n",
    "sym_spell = SymSpell(max_dictionary_edit_distance=2, prefix_length=7)\n",
    "dictionary_path = pkg_resources.resource_filename(\"symspellpy\", \"frequency_dictionary_en_82_765.txt\")\n",
    "bigram_path = pkg_resources.resource_filename(\"symspellpy\", \"frequency_bigramdictionary_en_243_342.txt\")\n",
    "\n",
    "sym_spell.load_dictionary(dictionary_path, term_index=0, count_index=1)\n",
    "sym_spell.load_bigram_dictionary(bigram_path, term_index=0, count_index=2)\n",
    "\n",
    "disorder_values = ukb_data['blood, blood-forming organs and certain immune disorders'].dropna().unique()\n",
    "suggestion_list = []\n",
    "for val in disorder_values:\n",
    "    # suggestions = sym_spell.lookup(val, Verbosity.CLOSEST, max_edit_distance=2, include_unknown=True)\n",
    "    suggestions = sym_spell.lookup_compound(val, max_edit_distance=2)\n",
    "    suggestion_list.append({'value': val, 'suggestion': suggestions[0].term})\n",
    "\n",
    "pd.DataFrame(suggestion_list)"
   ]
  },
  {
   "cell_type": "markdown",
   "metadata": {
    "pycharm": {
     "name": "#%% md\n"
    }
   },
   "source": [
    "Spell correction was able to fix both `iron deficiency anaemia` and `agranulocytosis`, since these words\n",
    "are available in the dictionary. But it completely failed the term `sarcoidosis`, and even gave bad\n",
    "suggestions for it. It is possible some of these terms are very domain specific and not present in day to\n",
    "day text. Therefore, we will import disease specific set of terms from the one of the popular ontologies.\n",
    "I am going to augment our dictionary with terms/phrases from MONDO ontology. I have created the file\n",
    "`frequency_dictionary_with_mondo.txt` which contains terms from both generic dictionary and MONDO.\n",
    "Let's try spelling correction one more time."
   ]
  },
  {
   "cell_type": "code",
   "execution_count": 21,
   "metadata": {
    "pycharm": {
     "name": "#%%\n"
    }
   },
   "outputs": [
    {
     "data": {
      "text/plain": "                      value               suggestion\n0   iron deficiency anaemia  iron deficiency anaemia\n1           agranulocytosis          agranulocytosis\n2           ugraaulocytosis          agranulocytosis\n3               sarcoidosis              sarcoidosis\n4           amranulocytosts          agranulocytosis\n5   iron defisiency anaemia  iron deficiency anaemia\n6               uarcoidosis              sarcoidosis\n7           agravulocytosis          agranulocytosis\n8   iron deficijncy anaemia  iron deficiency anaemia\n9               sarcjidlsis              sarcoidosis\n10              sarcoidowir              sarcoidosis\n11  iror deftciency anaemia  iron deficiency anaemia\n12              saucjidosis              sarcoidosis\n13              svrcqidosis              sarcoidosis\n14              sarcmidgsis              sarcoidosis\n15          arranwlocytosis          agranulocytosis\n16          abranulocytoszs          agranulocytosis\n17              sarcoiuouis              sarcoidosis\n18              narcoidosid              sarcoidosis\n19          agranulocytmsiq          agranulocytosis\n20          agranulocbtoshs          agranulocytosis\n21              sarcxidisis              sarcoidosis\n22  iroa meficiency anaemia  iron deficiency anaemia\n23  iron deficiencz anaelia  iron deficiency anaemia\n24              sarcoizosiu              sarcoidosis\n25              sarcocdoiis              sarcoidosis\n26  pron reficiency anaemia  pron deficiency anaemia\n27              sarcondosis              sarcoidosis\n28          agranhlocytocis          agranulocytosis",
      "text/html": "<div>\n<style scoped>\n    .dataframe tbody tr th:only-of-type {\n        vertical-align: middle;\n    }\n\n    .dataframe tbody tr th {\n        vertical-align: top;\n    }\n\n    .dataframe thead th {\n        text-align: right;\n    }\n</style>\n<table border=\"1\" class=\"dataframe\">\n  <thead>\n    <tr style=\"text-align: right;\">\n      <th></th>\n      <th>value</th>\n      <th>suggestion</th>\n    </tr>\n  </thead>\n  <tbody>\n    <tr>\n      <th>0</th>\n      <td>iron deficiency anaemia</td>\n      <td>iron deficiency anaemia</td>\n    </tr>\n    <tr>\n      <th>1</th>\n      <td>agranulocytosis</td>\n      <td>agranulocytosis</td>\n    </tr>\n    <tr>\n      <th>2</th>\n      <td>ugraaulocytosis</td>\n      <td>agranulocytosis</td>\n    </tr>\n    <tr>\n      <th>3</th>\n      <td>sarcoidosis</td>\n      <td>sarcoidosis</td>\n    </tr>\n    <tr>\n      <th>4</th>\n      <td>amranulocytosts</td>\n      <td>agranulocytosis</td>\n    </tr>\n    <tr>\n      <th>5</th>\n      <td>iron defisiency anaemia</td>\n      <td>iron deficiency anaemia</td>\n    </tr>\n    <tr>\n      <th>6</th>\n      <td>uarcoidosis</td>\n      <td>sarcoidosis</td>\n    </tr>\n    <tr>\n      <th>7</th>\n      <td>agravulocytosis</td>\n      <td>agranulocytosis</td>\n    </tr>\n    <tr>\n      <th>8</th>\n      <td>iron deficijncy anaemia</td>\n      <td>iron deficiency anaemia</td>\n    </tr>\n    <tr>\n      <th>9</th>\n      <td>sarcjidlsis</td>\n      <td>sarcoidosis</td>\n    </tr>\n    <tr>\n      <th>10</th>\n      <td>sarcoidowir</td>\n      <td>sarcoidosis</td>\n    </tr>\n    <tr>\n      <th>11</th>\n      <td>iror deftciency anaemia</td>\n      <td>iron deficiency anaemia</td>\n    </tr>\n    <tr>\n      <th>12</th>\n      <td>saucjidosis</td>\n      <td>sarcoidosis</td>\n    </tr>\n    <tr>\n      <th>13</th>\n      <td>svrcqidosis</td>\n      <td>sarcoidosis</td>\n    </tr>\n    <tr>\n      <th>14</th>\n      <td>sarcmidgsis</td>\n      <td>sarcoidosis</td>\n    </tr>\n    <tr>\n      <th>15</th>\n      <td>arranwlocytosis</td>\n      <td>agranulocytosis</td>\n    </tr>\n    <tr>\n      <th>16</th>\n      <td>abranulocytoszs</td>\n      <td>agranulocytosis</td>\n    </tr>\n    <tr>\n      <th>17</th>\n      <td>sarcoiuouis</td>\n      <td>sarcoidosis</td>\n    </tr>\n    <tr>\n      <th>18</th>\n      <td>narcoidosid</td>\n      <td>sarcoidosis</td>\n    </tr>\n    <tr>\n      <th>19</th>\n      <td>agranulocytmsiq</td>\n      <td>agranulocytosis</td>\n    </tr>\n    <tr>\n      <th>20</th>\n      <td>agranulocbtoshs</td>\n      <td>agranulocytosis</td>\n    </tr>\n    <tr>\n      <th>21</th>\n      <td>sarcxidisis</td>\n      <td>sarcoidosis</td>\n    </tr>\n    <tr>\n      <th>22</th>\n      <td>iroa meficiency anaemia</td>\n      <td>iron deficiency anaemia</td>\n    </tr>\n    <tr>\n      <th>23</th>\n      <td>iron deficiencz anaelia</td>\n      <td>iron deficiency anaemia</td>\n    </tr>\n    <tr>\n      <th>24</th>\n      <td>sarcoizosiu</td>\n      <td>sarcoidosis</td>\n    </tr>\n    <tr>\n      <th>25</th>\n      <td>sarcocdoiis</td>\n      <td>sarcoidosis</td>\n    </tr>\n    <tr>\n      <th>26</th>\n      <td>pron reficiency anaemia</td>\n      <td>pron deficiency anaemia</td>\n    </tr>\n    <tr>\n      <th>27</th>\n      <td>sarcondosis</td>\n      <td>sarcoidosis</td>\n    </tr>\n    <tr>\n      <th>28</th>\n      <td>agranhlocytocis</td>\n      <td>agranulocytosis</td>\n    </tr>\n  </tbody>\n</table>\n</div>"
     },
     "execution_count": 21,
     "metadata": {},
     "output_type": "execute_result"
    }
   ],
   "source": [
    "from symspellpy import SymSpell, Verbosity\n",
    "\n",
    "sym_spell = SymSpell(max_dictionary_edit_distance=4, prefix_length=7)\n",
    "dictionary_path = 'data/frequency_dictionary_with_mondo.txt'\n",
    "bigram_path = 'data/frequency_bigramdictionary_with_mondo.txt'\n",
    "\n",
    "sym_spell.load_dictionary(dictionary_path, term_index=0, count_index=1)\n",
    "sym_spell.load_bigram_dictionary(bigram_path, term_index=0, count_index=2)\n",
    "\n",
    "disorder_values = ukb_data['blood, blood-forming organs and certain immune disorders'].dropna().unique()\n",
    "suggestion_list = []\n",
    "for val in disorder_values:\n",
    "    suggestions = sym_spell.lookup_compound(val, max_edit_distance=2)\n",
    "    suggestion_list.append({'value': val, 'suggestion': suggestions[0].term})\n",
    "\n",
    "pd.DataFrame(suggestion_list)\n"
   ]
  },
  {
   "cell_type": "code",
   "execution_count": 23,
   "metadata": {
    "pycharm": {
     "name": "#%%\n"
    }
   },
   "outputs": [
    {
     "data": {
      "text/plain": "                         0\n0  iron deficiency anaemia\n1          agranulocytosis\n2              sarcoidosis\n3  pron deficiency anaemia",
      "text/html": "<div>\n<style scoped>\n    .dataframe tbody tr th:only-of-type {\n        vertical-align: middle;\n    }\n\n    .dataframe tbody tr th {\n        vertical-align: top;\n    }\n\n    .dataframe thead th {\n        text-align: right;\n    }\n</style>\n<table border=\"1\" class=\"dataframe\">\n  <thead>\n    <tr style=\"text-align: right;\">\n      <th></th>\n      <th>0</th>\n    </tr>\n  </thead>\n  <tbody>\n    <tr>\n      <th>0</th>\n      <td>iron deficiency anaemia</td>\n    </tr>\n    <tr>\n      <th>1</th>\n      <td>agranulocytosis</td>\n    </tr>\n    <tr>\n      <th>2</th>\n      <td>sarcoidosis</td>\n    </tr>\n    <tr>\n      <th>3</th>\n      <td>pron deficiency anaemia</td>\n    </tr>\n  </tbody>\n</table>\n</div>"
     },
     "execution_count": 23,
     "metadata": {},
     "output_type": "execute_result"
    }
   ],
   "source": [
    "disorder_mappings = {match['value']: match['suggestion'] for match in suggestion_list}\n",
    "ukb_data['blood, blood-forming organs and certain immune disorders'] = \\\n",
    "    ukb_data['blood, blood-forming organs and certain immune disorders'].map(disorder_mappings)\n",
    "pd.DataFrame(ukb_data['blood, blood-forming organs and certain immune disorders'].dropna().unique())"
   ]
  },
  {
   "cell_type": "markdown",
   "metadata": {},
   "source": [
    "Now if we check unique number of values for this column, we have 4. Having a closer look, apart from the\n",
    "`pron deficiency anaemia` other values looks ok. The problem with `pron` is, it is present in the dictionary\n",
    "and hence spell correction did not work as we expected. There are few things we can try by tweaking the\n",
    "dictionary word probability and probability of two words happening together. But we will not try this\n",
    "today.\n",
    "\n",
    "Our last action for today is to try and annotate these values with ontology terms. We will use\n",
    "[EBI ZOOMA](https://www.ebi.ac.uk/spot/zooma) to find proper annotations for the values in this field.\n"
   ]
  },
  {
   "cell_type": "markdown",
   "metadata": {},
   "source": [
    "Our next action is trying to ontologise these terms."
   ]
  },
  {
   "cell_type": "code",
   "execution_count": 27,
   "outputs": [
    {
     "data": {
      "text/plain": "                     value                                        ontology  \\\n0  iron deficiency anaemia     [http://purl.obolibrary.org/obo/HP_0001891]   \n1          agranulocytosis     [http://purl.obolibrary.org/obo/HP_0012234]   \n2              sarcoidosis  [http://purl.obolibrary.org/obo/MONDO_0019338]   \n3  pron deficiency anaemia     [http://purl.obolibrary.org/obo/HP_0001891]   \n\n  confidence  \n0       HIGH  \n1       HIGH  \n2       HIGH  \n3       GOOD  ",
      "text/html": "<div>\n<style scoped>\n    .dataframe tbody tr th:only-of-type {\n        vertical-align: middle;\n    }\n\n    .dataframe tbody tr th {\n        vertical-align: top;\n    }\n\n    .dataframe thead th {\n        text-align: right;\n    }\n</style>\n<table border=\"1\" class=\"dataframe\">\n  <thead>\n    <tr style=\"text-align: right;\">\n      <th></th>\n      <th>value</th>\n      <th>ontology</th>\n      <th>confidence</th>\n    </tr>\n  </thead>\n  <tbody>\n    <tr>\n      <th>0</th>\n      <td>iron deficiency anaemia</td>\n      <td>[http://purl.obolibrary.org/obo/HP_0001891]</td>\n      <td>HIGH</td>\n    </tr>\n    <tr>\n      <th>1</th>\n      <td>agranulocytosis</td>\n      <td>[http://purl.obolibrary.org/obo/HP_0012234]</td>\n      <td>HIGH</td>\n    </tr>\n    <tr>\n      <th>2</th>\n      <td>sarcoidosis</td>\n      <td>[http://purl.obolibrary.org/obo/MONDO_0019338]</td>\n      <td>HIGH</td>\n    </tr>\n    <tr>\n      <th>3</th>\n      <td>pron deficiency anaemia</td>\n      <td>[http://purl.obolibrary.org/obo/HP_0001891]</td>\n      <td>GOOD</td>\n    </tr>\n  </tbody>\n</table>\n</div>"
     },
     "execution_count": 27,
     "metadata": {},
     "output_type": "execute_result"
    }
   ],
   "source": [
    "import requests\n",
    "\n",
    "mappings = []\n",
    "disorder_values = ukb_data['blood, blood-forming organs and certain immune disorders'].dropna().unique()\n",
    "headers = {'Accept': 'application/json'}\n",
    "for val in disorder_values:\n",
    "    params = {'propertyValue': val}\n",
    "    r = requests.get('https://www.ebi.ac.uk/spot/zooma/v2/api/services/annotate', params=params, headers=headers)\n",
    "    if r.raise_for_status():\n",
    "        print(\"Failed to get ontology\")\n",
    "    response = r.json()\n",
    "    mappings.append({'value': val,\n",
    "                     'ontology': response[0]['semanticTags'],\n",
    "                     'confidence': response[0]['confidence']})\n",
    "\n",
    "pd.DataFrame(mappings, columns=['value', 'ontology', 'confidence'])"
   ],
   "metadata": {
    "collapsed": false,
    "pycharm": {
     "name": "#%%\n"
    }
   }
  },
  {
   "cell_type": "markdown",
   "source": [
    "`ZOOMA` was able to assign ontologies to all the values we had. It even assigned our misspelled\n",
    "`pron deficiency anaemia` with ontology term [`HP_0001891`](https://www.ebi.ac.uk/ols/ontologies/hp/terms?iri=http%3A%2F%2Fpurl.obolibrary.org%2Fobo%2FHP_0001891)\n",
    "with a `GOOD` mapping confidence.\n",
    "\n",
    "Having ontologies supercharge our data, and they become highly interoperable. Cleaned and well\n",
    "annotated data at the source will help scientist to spend their much valueble time on actual analysis\n",
    "and research than tackling with data.\n"
   ],
   "metadata": {
    "collapsed": false,
    "pycharm": {
     "name": "#%% md\n"
    }
   }
  },
  {
   "cell_type": "code",
   "execution_count": 29,
   "outputs": [
    {
     "ename": "HTTPError",
     "evalue": "404 Client Error: Not Found for url: https://www.ebi.ac.uk/spot/zooma/v2/api/services/annotat?propertyValue=iron+deficiency+anaemia",
     "output_type": "error",
     "traceback": [
      "\u001B[0;31m---------------------------------------------------------------------------\u001B[0m",
      "\u001B[0;31mHTTPError\u001B[0m                                 Traceback (most recent call last)",
      "Input \u001B[0;32mIn [29]\u001B[0m, in \u001B[0;36m<cell line: 5>\u001B[0;34m()\u001B[0m\n\u001B[1;32m      3\u001B[0m headers \u001B[38;5;241m=\u001B[39m {\u001B[38;5;124m'\u001B[39m\u001B[38;5;124mAccept\u001B[39m\u001B[38;5;124m'\u001B[39m: \u001B[38;5;124m'\u001B[39m\u001B[38;5;124mapplication/json\u001B[39m\u001B[38;5;124m'\u001B[39m}\n\u001B[1;32m      4\u001B[0m r \u001B[38;5;241m=\u001B[39m requests\u001B[38;5;241m.\u001B[39mget(\u001B[38;5;124m'\u001B[39m\u001B[38;5;124mhttps://www.ebi.ac.uk/spot/zooma/v2/api/services/annotat\u001B[39m\u001B[38;5;124m'\u001B[39m, params\u001B[38;5;241m=\u001B[39mparams, headers\u001B[38;5;241m=\u001B[39mheaders)\n\u001B[0;32m----> 5\u001B[0m \u001B[43mr\u001B[49m\u001B[38;5;241;43m.\u001B[39;49m\u001B[43mraise_for_status\u001B[49m\u001B[43m(\u001B[49m\u001B[43m)\u001B[49m\n\u001B[1;32m      6\u001B[0m response \u001B[38;5;241m=\u001B[39m r\u001B[38;5;241m.\u001B[39mjson()\n\u001B[1;32m      7\u001B[0m mappings \u001B[38;5;241m=\u001B[39m {\u001B[38;5;124m'\u001B[39m\u001B[38;5;124mvalue\u001B[39m\u001B[38;5;124m'\u001B[39m: value,\n\u001B[1;32m      8\u001B[0m             \u001B[38;5;124m'\u001B[39m\u001B[38;5;124montology\u001B[39m\u001B[38;5;124m'\u001B[39m: response[\u001B[38;5;241m0\u001B[39m][\u001B[38;5;124m'\u001B[39m\u001B[38;5;124msemanticTags\u001B[39m\u001B[38;5;124m'\u001B[39m],\n\u001B[1;32m      9\u001B[0m             \u001B[38;5;124m'\u001B[39m\u001B[38;5;124mconfidence\u001B[39m\u001B[38;5;124m'\u001B[39m: response[\u001B[38;5;241m0\u001B[39m][\u001B[38;5;124m'\u001B[39m\u001B[38;5;124mconfidence\u001B[39m\u001B[38;5;124m'\u001B[39m]}\n",
      "File \u001B[0;32m~/Projects/cohortDataCleaning/venv/lib/python3.8/site-packages/requests/models.py:960\u001B[0m, in \u001B[0;36mResponse.raise_for_status\u001B[0;34m(self)\u001B[0m\n\u001B[1;32m    957\u001B[0m     http_error_msg \u001B[38;5;241m=\u001B[39m \u001B[38;5;124mu\u001B[39m\u001B[38;5;124m'\u001B[39m\u001B[38;5;132;01m%s\u001B[39;00m\u001B[38;5;124m Server Error: \u001B[39m\u001B[38;5;132;01m%s\u001B[39;00m\u001B[38;5;124m for url: \u001B[39m\u001B[38;5;132;01m%s\u001B[39;00m\u001B[38;5;124m'\u001B[39m \u001B[38;5;241m%\u001B[39m (\u001B[38;5;28mself\u001B[39m\u001B[38;5;241m.\u001B[39mstatus_code, reason, \u001B[38;5;28mself\u001B[39m\u001B[38;5;241m.\u001B[39murl)\n\u001B[1;32m    959\u001B[0m \u001B[38;5;28;01mif\u001B[39;00m http_error_msg:\n\u001B[0;32m--> 960\u001B[0m     \u001B[38;5;28;01mraise\u001B[39;00m HTTPError(http_error_msg, response\u001B[38;5;241m=\u001B[39m\u001B[38;5;28mself\u001B[39m)\n",
      "\u001B[0;31mHTTPError\u001B[0m: 404 Client Error: Not Found for url: https://www.ebi.ac.uk/spot/zooma/v2/api/services/annotat?propertyValue=iron+deficiency+anaemia"
     ]
    }
   ],
   "source": [
    "value = 'iron deficiency anaemia'\n",
    "params = {'propertyValue': 'iron deficiency anaemia'}\n",
    "headers = {'Accept': 'application/json'}\n",
    "r = requests.get('https://www.ebi.ac.uk/spot/zooma/v2/api/services/annotat', params=params, headers=headers)\n",
    "r.raise_for_status()\n",
    "response = r.json()\n",
    "mappings = {'value': value,\n",
    "            'ontology': response[0]['semanticTags'],\n",
    "            'confidence': response[0]['confidence']}\n",
    "print(mappings)\n",
    "response"
   ],
   "metadata": {
    "collapsed": false,
    "pycharm": {
     "name": "#%%\n"
    }
   }
  }
 ],
 "metadata": {
  "kernelspec": {
   "display_name": "Python 3 (ipykernel)",
   "language": "python",
   "name": "python3"
  },
  "language_info": {
   "codemirror_mode": {
    "name": "ipython",
    "version": 3
   },
   "file_extension": ".py",
   "mimetype": "text/x-python",
   "name": "python",
   "nbconvert_exporter": "python",
   "pygments_lexer": "ipython3",
   "version": "3.8.10"
  }
 },
 "nbformat": 4,
 "nbformat_minor": 1
}