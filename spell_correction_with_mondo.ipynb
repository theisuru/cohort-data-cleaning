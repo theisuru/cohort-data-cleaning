{
 "cells": [
  {
   "cell_type": "code",
   "execution_count": 10,
   "metadata": {
    "collapsed": true
   },
   "outputs": [
    {
     "data": {
      "text/plain": "   sample name  platelet count           ethnic background  \\\n0   UKB_FAKE_1        244.9589                     African   \n1   UKB_FAKE_2        215.7736                     British   \n2   UKB_FAKE_3        312.3504      Asian or Asian British   \n3   UKB_FAKE_4        150.0247             White and Asian   \n4   UKB_FAKE_5        215.5871     White and Black African   \n5   UKB_FAKE_6        230.3244        Prefer not to answer   \n6   UKB_FAKE_7        114.8653  Any other Asian background   \n7   UKB_FAKE_8        192.6149   White and Black Caribbean   \n8   UKB_FAKE_9        172.5093      Black or Black British   \n9  UKB_FAKE_10        224.7824  Any other mixed background   \n\n   body mass index (bmi)   weight diabetes diagnosed by doctor  \\\n0              26.638383  85.6358                          Yes   \n1              25.622784  64.5722                          Yes   \n2              22.359763  64.4364         Prefer not to answer   \n3              28.278855  74.4885         Prefer not to answer   \n4              25.520670  82.3472                          Yes   \n5              30.943636  81.8213         Prefer not to answer   \n6              29.095139  80.6949         Prefer not to answer   \n7              19.081154  65.3527                           No   \n8              28.173368  94.9065                          Yes   \n9              15.284914  44.8895                           No   \n\n   age high blood pressure diagnosed  triglycerides  age at recruitment  \\\n0                              22.18         1.8299               35.45   \n1                              33.61         1.4641               31.38   \n2                                NaN         2.0471               45.40   \n3                                NaN         1.4921               47.24   \n4                                NaN         1.5540               39.16   \n5                              37.11        -0.2066               46.10   \n6                                NaN         1.5180               33.67   \n7                              34.68         1.5295               41.80   \n8                                NaN         1.4005               45.76   \n9                                NaN         2.3088               42.85   \n\n   age diabetes diagnosed  ...  \\\n0                   21.53  ...   \n1                   21.01  ...   \n2                     NaN  ...   \n3                     NaN  ...   \n4                   22.00  ...   \n5                     NaN  ...   \n6                     NaN  ...   \n7                     NaN  ...   \n8                   19.08  ...   \n9                     NaN  ...   \n\n                        operative procedures - opcs4  \\\n0  L46.3 Ligation of visceral branch of abdominal...   \n1   K06.1 Repositioning of transposed great arteries   \n2                T89.4 Cannulation of lymphatic duct   \n3                      T77.2 Wide excision of muscle   \n4            Z01.4 Tissue of occipital lobe of brain   \n5  E55.9 Unspecified open extirpation of lesion o...   \n6                         Z98.6 Short saphenous vein   \n7                  C46.3 Penetrating graft to cornea   \n8              C01.8 Other specified excision of eye   \n9  H03.8 Other specified other operations on appe...   \n\n   frequency of drinking alcohol  \\\n0                Monthly or less   \n1         4 or more times a week   \n2            2 to 3 times a week   \n3            2 to 3 times a week   \n4                          Never   \n5            2 to 3 times a week   \n6         4 or more times a week   \n7            2 to 3 times a week   \n8           Prefer not to answer   \n9         4 or more times a week   \n\n   blood, blood-forming organs and certain immune disorders  \\\n0                                                NaN          \n1                                                NaN          \n2                                                NaN          \n3                                                NaN          \n4                                                NaN          \n5                                                NaN          \n6                                                NaN          \n7                                                NaN          \n8                                                NaN          \n9                                                NaN          \n\n   endocrine, nutritional and metabolic diseases  \\\n0                                            NaN   \n1                                            NaN   \n2                                            NaN   \n3                                            NaN   \n4                                            NaN   \n5                                            NaN   \n6                                            NaN   \n7                                            NaN   \n8                                            NaN   \n9                                            NaN   \n\n   mental and behavioural disorders  nervous system disorders  \\\n0                               NaN       alzheimer's disease   \n1                               NaN                       NaN   \n2                               NaN                       NaN   \n3                               NaN                       NaN   \n4                               NaN                       NaN   \n5                               NaN                       NaN   \n6                               NaN                       NaN   \n7                               NaN        multiple sclerosis   \n8                               NaN                       NaN   \n9                               NaN                       NaN   \n\n   digestive system disorders  \\\n0                         NaN   \n1                         NaN   \n2                         NaN   \n3                         NaN   \n4                         NaN   \n5                         NaN   \n6                         NaN   \n7                         NaN   \n8                         NaN   \n9                         NaN   \n\n                        respiratory system disorders  \\\n0                                                NaN   \n1                                                NaN   \n2                                                NaN   \n3                                                NaN   \n4                                                NaN   \n5                                                NaN   \n6                                   acute bronchitis   \n7  influenza due to certain identified influenza ...   \n8                                                NaN   \n9                                   acute bronchitis   \n\n   circulatory system disorders  covid-19 tests results  \n0                           NaN                Negative  \n1                           NaN                Negative  \n2                           NaN                Negative  \n3                           NaN                Negative  \n4                           NaN                Negative  \n5                           NaN                Negative  \n6                           NaN                Negative  \n7                cardiomyopathy                Negative  \n8                           NaN                Negative  \n9                           NaN                Negative  \n\n[10 rows x 77 columns]",
      "text/html": "<div>\n<style scoped>\n    .dataframe tbody tr th:only-of-type {\n        vertical-align: middle;\n    }\n\n    .dataframe tbody tr th {\n        vertical-align: top;\n    }\n\n    .dataframe thead th {\n        text-align: right;\n    }\n</style>\n<table border=\"1\" class=\"dataframe\">\n  <thead>\n    <tr style=\"text-align: right;\">\n      <th></th>\n      <th>sample name</th>\n      <th>platelet count</th>\n      <th>ethnic background</th>\n      <th>body mass index (bmi)</th>\n      <th>weight</th>\n      <th>diabetes diagnosed by doctor</th>\n      <th>age high blood pressure diagnosed</th>\n      <th>triglycerides</th>\n      <th>age at recruitment</th>\n      <th>age diabetes diagnosed</th>\n      <th>...</th>\n      <th>operative procedures - opcs4</th>\n      <th>frequency of drinking alcohol</th>\n      <th>blood, blood-forming organs and certain immune disorders</th>\n      <th>endocrine, nutritional and metabolic diseases</th>\n      <th>mental and behavioural disorders</th>\n      <th>nervous system disorders</th>\n      <th>digestive system disorders</th>\n      <th>respiratory system disorders</th>\n      <th>circulatory system disorders</th>\n      <th>covid-19 tests results</th>\n    </tr>\n  </thead>\n  <tbody>\n    <tr>\n      <th>0</th>\n      <td>UKB_FAKE_1</td>\n      <td>244.9589</td>\n      <td>African</td>\n      <td>26.638383</td>\n      <td>85.6358</td>\n      <td>Yes</td>\n      <td>22.18</td>\n      <td>1.8299</td>\n      <td>35.45</td>\n      <td>21.53</td>\n      <td>...</td>\n      <td>L46.3 Ligation of visceral branch of abdominal...</td>\n      <td>Monthly or less</td>\n      <td>NaN</td>\n      <td>NaN</td>\n      <td>NaN</td>\n      <td>alzheimer's disease</td>\n      <td>NaN</td>\n      <td>NaN</td>\n      <td>NaN</td>\n      <td>Negative</td>\n    </tr>\n    <tr>\n      <th>1</th>\n      <td>UKB_FAKE_2</td>\n      <td>215.7736</td>\n      <td>British</td>\n      <td>25.622784</td>\n      <td>64.5722</td>\n      <td>Yes</td>\n      <td>33.61</td>\n      <td>1.4641</td>\n      <td>31.38</td>\n      <td>21.01</td>\n      <td>...</td>\n      <td>K06.1 Repositioning of transposed great arteries</td>\n      <td>4 or more times a week</td>\n      <td>NaN</td>\n      <td>NaN</td>\n      <td>NaN</td>\n      <td>NaN</td>\n      <td>NaN</td>\n      <td>NaN</td>\n      <td>NaN</td>\n      <td>Negative</td>\n    </tr>\n    <tr>\n      <th>2</th>\n      <td>UKB_FAKE_3</td>\n      <td>312.3504</td>\n      <td>Asian or Asian British</td>\n      <td>22.359763</td>\n      <td>64.4364</td>\n      <td>Prefer not to answer</td>\n      <td>NaN</td>\n      <td>2.0471</td>\n      <td>45.40</td>\n      <td>NaN</td>\n      <td>...</td>\n      <td>T89.4 Cannulation of lymphatic duct</td>\n      <td>2 to 3 times a week</td>\n      <td>NaN</td>\n      <td>NaN</td>\n      <td>NaN</td>\n      <td>NaN</td>\n      <td>NaN</td>\n      <td>NaN</td>\n      <td>NaN</td>\n      <td>Negative</td>\n    </tr>\n    <tr>\n      <th>3</th>\n      <td>UKB_FAKE_4</td>\n      <td>150.0247</td>\n      <td>White and Asian</td>\n      <td>28.278855</td>\n      <td>74.4885</td>\n      <td>Prefer not to answer</td>\n      <td>NaN</td>\n      <td>1.4921</td>\n      <td>47.24</td>\n      <td>NaN</td>\n      <td>...</td>\n      <td>T77.2 Wide excision of muscle</td>\n      <td>2 to 3 times a week</td>\n      <td>NaN</td>\n      <td>NaN</td>\n      <td>NaN</td>\n      <td>NaN</td>\n      <td>NaN</td>\n      <td>NaN</td>\n      <td>NaN</td>\n      <td>Negative</td>\n    </tr>\n    <tr>\n      <th>4</th>\n      <td>UKB_FAKE_5</td>\n      <td>215.5871</td>\n      <td>White and Black African</td>\n      <td>25.520670</td>\n      <td>82.3472</td>\n      <td>Yes</td>\n      <td>NaN</td>\n      <td>1.5540</td>\n      <td>39.16</td>\n      <td>22.00</td>\n      <td>...</td>\n      <td>Z01.4 Tissue of occipital lobe of brain</td>\n      <td>Never</td>\n      <td>NaN</td>\n      <td>NaN</td>\n      <td>NaN</td>\n      <td>NaN</td>\n      <td>NaN</td>\n      <td>NaN</td>\n      <td>NaN</td>\n      <td>Negative</td>\n    </tr>\n    <tr>\n      <th>5</th>\n      <td>UKB_FAKE_6</td>\n      <td>230.3244</td>\n      <td>Prefer not to answer</td>\n      <td>30.943636</td>\n      <td>81.8213</td>\n      <td>Prefer not to answer</td>\n      <td>37.11</td>\n      <td>-0.2066</td>\n      <td>46.10</td>\n      <td>NaN</td>\n      <td>...</td>\n      <td>E55.9 Unspecified open extirpation of lesion o...</td>\n      <td>2 to 3 times a week</td>\n      <td>NaN</td>\n      <td>NaN</td>\n      <td>NaN</td>\n      <td>NaN</td>\n      <td>NaN</td>\n      <td>NaN</td>\n      <td>NaN</td>\n      <td>Negative</td>\n    </tr>\n    <tr>\n      <th>6</th>\n      <td>UKB_FAKE_7</td>\n      <td>114.8653</td>\n      <td>Any other Asian background</td>\n      <td>29.095139</td>\n      <td>80.6949</td>\n      <td>Prefer not to answer</td>\n      <td>NaN</td>\n      <td>1.5180</td>\n      <td>33.67</td>\n      <td>NaN</td>\n      <td>...</td>\n      <td>Z98.6 Short saphenous vein</td>\n      <td>4 or more times a week</td>\n      <td>NaN</td>\n      <td>NaN</td>\n      <td>NaN</td>\n      <td>NaN</td>\n      <td>NaN</td>\n      <td>acute bronchitis</td>\n      <td>NaN</td>\n      <td>Negative</td>\n    </tr>\n    <tr>\n      <th>7</th>\n      <td>UKB_FAKE_8</td>\n      <td>192.6149</td>\n      <td>White and Black Caribbean</td>\n      <td>19.081154</td>\n      <td>65.3527</td>\n      <td>No</td>\n      <td>34.68</td>\n      <td>1.5295</td>\n      <td>41.80</td>\n      <td>NaN</td>\n      <td>...</td>\n      <td>C46.3 Penetrating graft to cornea</td>\n      <td>2 to 3 times a week</td>\n      <td>NaN</td>\n      <td>NaN</td>\n      <td>NaN</td>\n      <td>multiple sclerosis</td>\n      <td>NaN</td>\n      <td>influenza due to certain identified influenza ...</td>\n      <td>cardiomyopathy</td>\n      <td>Negative</td>\n    </tr>\n    <tr>\n      <th>8</th>\n      <td>UKB_FAKE_9</td>\n      <td>172.5093</td>\n      <td>Black or Black British</td>\n      <td>28.173368</td>\n      <td>94.9065</td>\n      <td>Yes</td>\n      <td>NaN</td>\n      <td>1.4005</td>\n      <td>45.76</td>\n      <td>19.08</td>\n      <td>...</td>\n      <td>C01.8 Other specified excision of eye</td>\n      <td>Prefer not to answer</td>\n      <td>NaN</td>\n      <td>NaN</td>\n      <td>NaN</td>\n      <td>NaN</td>\n      <td>NaN</td>\n      <td>NaN</td>\n      <td>NaN</td>\n      <td>Negative</td>\n    </tr>\n    <tr>\n      <th>9</th>\n      <td>UKB_FAKE_10</td>\n      <td>224.7824</td>\n      <td>Any other mixed background</td>\n      <td>15.284914</td>\n      <td>44.8895</td>\n      <td>No</td>\n      <td>NaN</td>\n      <td>2.3088</td>\n      <td>42.85</td>\n      <td>NaN</td>\n      <td>...</td>\n      <td>H03.8 Other specified other operations on appe...</td>\n      <td>4 or more times a week</td>\n      <td>NaN</td>\n      <td>NaN</td>\n      <td>NaN</td>\n      <td>NaN</td>\n      <td>NaN</td>\n      <td>acute bronchitis</td>\n      <td>NaN</td>\n      <td>Negative</td>\n    </tr>\n  </tbody>\n</table>\n<p>10 rows × 77 columns</p>\n</div>"
     },
     "execution_count": 10,
     "metadata": {},
     "output_type": "execute_result"
    }
   ],
   "source": [
    "import pandas as pd\n",
    "import re\n",
    "\n",
    "ukb_data = pd.read_csv(\"data/ukb_synthetic_data_with_noise.csv\")\n",
    "ukb_data.rename(columns=lambda x: re.sub('-0.0', '', x), inplace=True)\n",
    "ukb_data.rename(columns=lambda x: x.strip(), inplace=True)\n",
    "ukb_data.rename(columns=lambda x: x.lower(), inplace=True)\n",
    "ukb_data.drop(['eid', 'accession', 'subject id', 'ega sample id'], axis=1, inplace=True)\n",
    "pd.DataFrame(ukb_data.columns, columns=['fields'])\n",
    "\n",
    "ukb_data.head(10)"
   ]
  },
  {
   "cell_type": "code",
   "execution_count": 13,
   "outputs": [
    {
     "data": {
      "text/plain": "                      value               suggestion\n0   iron deficiency anaemia  iron deficiency anaemia\n1           agranulocytosis          agranulocytosis\n2           ugraaulocytosis          agranulocytosis\n3               sarcoidosis              sarcoid sis\n4           amranulocytosts          agranulocytosis\n5   iron defisiency anaemia  iron deficiency anaemia\n6               uarcoidosis              sarcoid sis\n7           agravulocytosis          agranulocytosis\n8   iron deficijncy anaemia  iron deficiency anaemia\n9               sarcjidlsis              sarcoid sis\n10              sarcoidowir              sarcoid air\n11  iror deftciency anaemia  iron deficiency anaemia\n12              saucjidosis               a acidosis\n13              svrcqidosis              so acidosis\n14              sarcmidgsis              sarcoid sis\n15          arranwlocytosis          agranulocytosis\n16          abranulocytoszs          agranulocytosis\n17              sarcoiuouis              marco louis\n18              narcoidosid              sarcoid sid\n19          agranulocytmsiq          agranulocytosis\n20          agranulocbtoshs          agranulocytosis\n21              sarcxidisis             sarcoid isis\n22  iroa meficiency anaemia  iron deficiency anaemia\n23  iron deficiencz anaelia  iron deficiency anaemia\n24              sarcoizosiu              sarcoid oil\n25              sarcocdoiis               sarcoid is\n26  pron reficiency anaemia  pron deficiency anaemia\n27              sarcondosis              sarcoid sis\n28          agranhlocytocis          agranulocytosis",
      "text/html": "<div>\n<style scoped>\n    .dataframe tbody tr th:only-of-type {\n        vertical-align: middle;\n    }\n\n    .dataframe tbody tr th {\n        vertical-align: top;\n    }\n\n    .dataframe thead th {\n        text-align: right;\n    }\n</style>\n<table border=\"1\" class=\"dataframe\">\n  <thead>\n    <tr style=\"text-align: right;\">\n      <th></th>\n      <th>value</th>\n      <th>suggestion</th>\n    </tr>\n  </thead>\n  <tbody>\n    <tr>\n      <th>0</th>\n      <td>iron deficiency anaemia</td>\n      <td>iron deficiency anaemia</td>\n    </tr>\n    <tr>\n      <th>1</th>\n      <td>agranulocytosis</td>\n      <td>agranulocytosis</td>\n    </tr>\n    <tr>\n      <th>2</th>\n      <td>ugraaulocytosis</td>\n      <td>agranulocytosis</td>\n    </tr>\n    <tr>\n      <th>3</th>\n      <td>sarcoidosis</td>\n      <td>sarcoid sis</td>\n    </tr>\n    <tr>\n      <th>4</th>\n      <td>amranulocytosts</td>\n      <td>agranulocytosis</td>\n    </tr>\n    <tr>\n      <th>5</th>\n      <td>iron defisiency anaemia</td>\n      <td>iron deficiency anaemia</td>\n    </tr>\n    <tr>\n      <th>6</th>\n      <td>uarcoidosis</td>\n      <td>sarcoid sis</td>\n    </tr>\n    <tr>\n      <th>7</th>\n      <td>agravulocytosis</td>\n      <td>agranulocytosis</td>\n    </tr>\n    <tr>\n      <th>8</th>\n      <td>iron deficijncy anaemia</td>\n      <td>iron deficiency anaemia</td>\n    </tr>\n    <tr>\n      <th>9</th>\n      <td>sarcjidlsis</td>\n      <td>sarcoid sis</td>\n    </tr>\n    <tr>\n      <th>10</th>\n      <td>sarcoidowir</td>\n      <td>sarcoid air</td>\n    </tr>\n    <tr>\n      <th>11</th>\n      <td>iror deftciency anaemia</td>\n      <td>iron deficiency anaemia</td>\n    </tr>\n    <tr>\n      <th>12</th>\n      <td>saucjidosis</td>\n      <td>a acidosis</td>\n    </tr>\n    <tr>\n      <th>13</th>\n      <td>svrcqidosis</td>\n      <td>so acidosis</td>\n    </tr>\n    <tr>\n      <th>14</th>\n      <td>sarcmidgsis</td>\n      <td>sarcoid sis</td>\n    </tr>\n    <tr>\n      <th>15</th>\n      <td>arranwlocytosis</td>\n      <td>agranulocytosis</td>\n    </tr>\n    <tr>\n      <th>16</th>\n      <td>abranulocytoszs</td>\n      <td>agranulocytosis</td>\n    </tr>\n    <tr>\n      <th>17</th>\n      <td>sarcoiuouis</td>\n      <td>marco louis</td>\n    </tr>\n    <tr>\n      <th>18</th>\n      <td>narcoidosid</td>\n      <td>sarcoid sid</td>\n    </tr>\n    <tr>\n      <th>19</th>\n      <td>agranulocytmsiq</td>\n      <td>agranulocytosis</td>\n    </tr>\n    <tr>\n      <th>20</th>\n      <td>agranulocbtoshs</td>\n      <td>agranulocytosis</td>\n    </tr>\n    <tr>\n      <th>21</th>\n      <td>sarcxidisis</td>\n      <td>sarcoid isis</td>\n    </tr>\n    <tr>\n      <th>22</th>\n      <td>iroa meficiency anaemia</td>\n      <td>iron deficiency anaemia</td>\n    </tr>\n    <tr>\n      <th>23</th>\n      <td>iron deficiencz anaelia</td>\n      <td>iron deficiency anaemia</td>\n    </tr>\n    <tr>\n      <th>24</th>\n      <td>sarcoizosiu</td>\n      <td>sarcoid oil</td>\n    </tr>\n    <tr>\n      <th>25</th>\n      <td>sarcocdoiis</td>\n      <td>sarcoid is</td>\n    </tr>\n    <tr>\n      <th>26</th>\n      <td>pron reficiency anaemia</td>\n      <td>pron deficiency anaemia</td>\n    </tr>\n    <tr>\n      <th>27</th>\n      <td>sarcondosis</td>\n      <td>sarcoid sis</td>\n    </tr>\n    <tr>\n      <th>28</th>\n      <td>agranhlocytocis</td>\n      <td>agranulocytosis</td>\n    </tr>\n  </tbody>\n</table>\n</div>"
     },
     "execution_count": 13,
     "metadata": {},
     "output_type": "execute_result"
    }
   ],
   "source": [
    "import pkg_resources\n",
    "from symspellpy import SymSpell, Verbosity\n",
    "\n",
    "sym_spell = SymSpell(max_dictionary_edit_distance=2, prefix_length=7)\n",
    "dictionary_path = pkg_resources.resource_filename(\"symspellpy\", \"frequency_dictionary_en_82_765.txt\")\n",
    "bigram_path = pkg_resources.resource_filename(\"symspellpy\", \"frequency_bigramdictionary_en_243_342.txt\")\n",
    "# dictionary_path = 'data/frequency_dictionary_with_mondo.txt'\n",
    "# bigram_path = 'data/frequency_bigramdictionary_with_mondo.txt'\n",
    "\n",
    "sym_spell.load_dictionary(dictionary_path, term_index=0, count_index=1)\n",
    "sym_spell.load_bigram_dictionary(bigram_path, term_index=0, count_index=2)\n",
    "\n",
    "disorder_values = ukb_data['blood, blood-forming organs and certain immune disorders'].dropna().unique()\n",
    "suggestion_list = []\n",
    "for val in disorder_values:\n",
    "    # suggestions = sym_spell.lookup(val, Verbosity.CLOSEST, max_edit_distance=2, include_unknown=True)\n",
    "    suggestions = sym_spell.lookup_compound(val, max_edit_distance=2)\n",
    "    suggestion_list.append({'value': val, 'suggestion': suggestions[0].term})\n",
    "\n",
    "pd.DataFrame(suggestion_list)"
   ],
   "metadata": {
    "collapsed": false,
    "pycharm": {
     "name": "#%%\n"
    }
   }
  },
  {
   "cell_type": "code",
   "execution_count": 4,
   "outputs": [
    {
     "data": {
      "text/plain": "                         0\n0                      NaN\n1  iron deficiency anaemia\n2          agranulocytosis\n3              sarcoidosis\n4  pron deficiency anaemia",
      "text/html": "<div>\n<style scoped>\n    .dataframe tbody tr th:only-of-type {\n        vertical-align: middle;\n    }\n\n    .dataframe tbody tr th {\n        vertical-align: top;\n    }\n\n    .dataframe thead th {\n        text-align: right;\n    }\n</style>\n<table border=\"1\" class=\"dataframe\">\n  <thead>\n    <tr style=\"text-align: right;\">\n      <th></th>\n      <th>0</th>\n    </tr>\n  </thead>\n  <tbody>\n    <tr>\n      <th>0</th>\n      <td>NaN</td>\n    </tr>\n    <tr>\n      <th>1</th>\n      <td>iron deficiency anaemia</td>\n    </tr>\n    <tr>\n      <th>2</th>\n      <td>agranulocytosis</td>\n    </tr>\n    <tr>\n      <th>3</th>\n      <td>sarcoidosis</td>\n    </tr>\n    <tr>\n      <th>4</th>\n      <td>pron deficiency anaemia</td>\n    </tr>\n  </tbody>\n</table>\n</div>"
     },
     "execution_count": 4,
     "metadata": {},
     "output_type": "execute_result"
    }
   ],
   "source": [
    "disorder_mappings = {match['value']: match['suggestion'] for match in suggestion_list}\n",
    "ukb_data['blood, blood-forming organs and certain immune disorders'] = \\\n",
    "    ukb_data['blood, blood-forming organs and certain immune disorders'].map(disorder_mappings)\n",
    "pd.DataFrame(ukb_data['blood, blood-forming organs and certain immune disorders'].unique())\n"
   ],
   "metadata": {
    "collapsed": false,
    "pycharm": {
     "name": "#%%\n"
    }
   }
  }
 ],
 "metadata": {
  "kernelspec": {
   "display_name": "Python 3",
   "language": "python",
   "name": "python3"
  },
  "language_info": {
   "codemirror_mode": {
    "name": "ipython",
    "version": 2
   },
   "file_extension": ".py",
   "mimetype": "text/x-python",
   "name": "python",
   "nbconvert_exporter": "python",
   "pygments_lexer": "ipython2",
   "version": "2.7.6"
  }
 },
 "nbformat": 4,
 "nbformat_minor": 0
}